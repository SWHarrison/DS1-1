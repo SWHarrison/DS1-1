{
 "cells": [
  {
   "cell_type": "code",
   "execution_count": 23,
   "metadata": {},
   "outputs": [],
   "source": [
    "import pandas as pd\n",
    "import numpy as np\n",
    "import math\n",
    "from scipy import stats\n",
    "data = stats.norm.rvs(loc = 1.2, scale = 0.5, size = 10000)"
   ]
  },
  {
   "cell_type": "code",
   "execution_count": 24,
   "metadata": {},
   "outputs": [],
   "source": [
    "xbar = 1.05\n",
    "n = 100\n",
    "s = 0.5\n",
    "\n",
    "z_score = (xbar - 1.2) / (s / math.sqrt(n))"
   ]
  },
  {
   "cell_type": "code",
   "execution_count": 25,
   "metadata": {},
   "outputs": [
    {
     "data": {
      "text/plain": [
       "-2.9999999999999982"
      ]
     },
     "execution_count": 25,
     "metadata": {},
     "output_type": "execute_result"
    }
   ],
   "source": [
    "z_score"
   ]
  },
  {
   "cell_type": "code",
   "execution_count": 26,
   "metadata": {},
   "outputs": [],
   "source": [
    "p_value = stats.norm.sf(abs(z_score)) * 2"
   ]
  },
  {
   "cell_type": "code",
   "execution_count": 27,
   "metadata": {},
   "outputs": [
    {
     "data": {
      "text/plain": [
       "0.0026997960632602026"
      ]
     },
     "execution_count": 27,
     "metadata": {},
     "output_type": "execute_result"
    }
   ],
   "source": [
    "p_value"
   ]
  },
  {
   "cell_type": "code",
   "execution_count": 34,
   "metadata": {},
   "outputs": [],
   "source": [
    "def p_value(mean, std, sample, sample_mean):\n",
    "    z_score = (sample_mean - mean) / (std / math.sqrt(sample))\n",
    "    \n",
    "    return stats.norm.sf(abs(z_score)) * 2"
   ]
  },
  {
   "cell_type": "code",
   "execution_count": 35,
   "metadata": {},
   "outputs": [
    {
     "data": {
      "text/plain": [
       "0.0026997960632602026"
      ]
     },
     "execution_count": 35,
     "metadata": {},
     "output_type": "execute_result"
    }
   ],
   "source": [
    "p_value(1.2,0.5,100,1.05)"
   ]
  },
  {
   "cell_type": "code",
   "execution_count": 31,
   "metadata": {},
   "outputs": [
    {
     "name": "stdout",
     "output_type": "stream",
     "text": [
      "t-statistic:  2.295568968083183\n",
      "t = 2.295568968083183 , p =  0.04734137339747034\n"
     ]
    }
   ],
   "source": [
    "x = [177.3, 182.7, 169.6, 176.3, 180.3, 179.4, 178.5, 177.2, 181.8, 176.5, 177.3, 182.7, 169.6, 176.3, 180.3, 179.4, 178.5, 177.2, 181.8, 176.5, 177.3, 182.7, 169.6, 176.3, 180.3, 179.4, 178.5, 177.2, 181.8, 176.5, 177.3, 182.7, 169.6, 176.3, 180.3, 179.4, 178.5, 177.2, 181.8, 176.5]\n",
    "mu = 175.3\n",
    "sample_mean = np.array(x).mean()\n",
    "\n",
    "N = len(x)\n",
    "S = np.array(x).std(ddof=1)\n",
    "den = S / np.sqrt(N)\n",
    "\n",
    "t = (sample_mean - mu)/den\n",
    "print(\"t-statistic: \",t)\n",
    "\n",
    "t, p = stats.ttest_1samp(x,mu)\n",
    "print(\"t =\", t, \", p = \",p)"
   ]
  },
  {
   "cell_type": "code",
   "execution_count": 38,
   "metadata": {},
   "outputs": [
    {
     "data": {
      "text/plain": [
       "2.295568968083183"
      ]
     },
     "execution_count": 38,
     "metadata": {},
     "output_type": "execute_result"
    }
   ],
   "source": [
    "def z_score(mean, std, sample, sample_mean):\n",
    "    return (sample_mean - mean) / (std / math.sqrt(sample))\n",
    "\n",
    "def z_t_null_hyp(data_sample, mu, sigma, significant_level):\n",
    "    if(len(data_sample) > 30) and sigma:\n",
    "        z = z_score = (mu, sigma, len(data_sample), np.array(data_sample).mean())\n",
    "        return z\n",
    "    else:\n",
    "        N = len(data_sample)\n",
    "        S = np.array(data_sample).std(ddof=1)\n",
    "        den = S / np.sqrt(N)\n",
    "        t = (np.array(data_sample).mean() - mu)/den\n",
    "        return t\n",
    "    \n",
    "z_t_null_hyp(x, 175.3, None, 0.05)"
   ]
  },
  {
   "cell_type": "code",
   "execution_count": null,
   "metadata": {},
   "outputs": [],
   "source": []
  }
 ],
 "metadata": {
  "kernelspec": {
   "display_name": "Python 3",
   "language": "python",
   "name": "python3"
  },
  "language_info": {
   "codemirror_mode": {
    "name": "ipython",
    "version": 3
   },
   "file_extension": ".py",
   "mimetype": "text/x-python",
   "name": "python",
   "nbconvert_exporter": "python",
   "pygments_lexer": "ipython3",
   "version": "3.7.1"
  }
 },
 "nbformat": 4,
 "nbformat_minor": 2
}
